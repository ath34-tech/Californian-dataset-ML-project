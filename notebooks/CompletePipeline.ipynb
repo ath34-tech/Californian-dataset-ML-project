{
 "cells": [
  {
   "cell_type": "code",
   "execution_count": 51,
   "id": "c9538e65-43d9-4f64-aa5e-9643da878861",
   "metadata": {},
   "outputs": [],
   "source": [
    "import pandas as pd\n",
    "import numpy as np\n",
    "import matplotlib.pyplot as plt\n",
    "\n",
    "#all library for data manupulation\n",
    "from sklearn.impute import SimpleImputer\n",
    "from sklearn.preprocessing import MinMaxScaler\n",
    "from sklearn.base import BaseEstimator, TransformerMixin\n",
    "from sklearn.model_selection import train_test_split\n",
    "from sklearn.pipeline import Pipeline\n",
    "from sklearn.compose import ColumnTransformer\n",
    "from sklearn.preprocessing import OneHotEncoder\n",
    "\n",
    "#all models we gonna use\n",
    "from sklearn.linear_model import LinearRegression\n",
    "from sklearn.tree import DecisionTreeRegressor\n",
    "from sklearn.ensemble import RandomForestRegressor\n",
    "from sklearn.svm import SVR\n",
    "\n",
    "#all performance measuring\n",
    "from sklearn.metrics import mean_squared_error as mse\n",
    "from sklearn.model_selection import cross_val_score\n",
    "\n",
    "#all fine tuning library\n",
    "from sklearn.model_selection import GridSearchCV\n",
    "from sklearn.model_selection import RandomizedSearchCV"
   ]
  },
  {
   "cell_type": "code",
   "execution_count": 52,
   "id": "4aa83fe3-2a05-49cd-8d4d-50b1c474e2cf",
   "metadata": {},
   "outputs": [],
   "source": [
    "df=pd.read_csv(\"D:\\\\ML project\\\\data\\\\archive\\\\housing.csv\")"
   ]
  },
  {
   "cell_type": "code",
   "execution_count": 53,
   "id": "e4498f21-d18f-47d3-9f0d-4a6c1fdc7157",
   "metadata": {},
   "outputs": [],
   "source": [
    "#it will take a label column name , test size and random state\n",
    "class trainTestSplitter(TransformerMixin, BaseEstimator):\n",
    "    def __init__(self,test_size,random_state):\n",
    "        self.test_size=test_size\n",
    "        self.random_state=random_state\n",
    "        \n",
    "    def fit(self):\n",
    "        return self\n",
    "        \n",
    "    def transform(self,df,label):\n",
    "        X=df.drop(label,axis=1)\n",
    "        Y=df[label]\n",
    "        X_train, X_test, y_train, y_test = train_test_split(X, Y, test_size=self.test_size, random_state=self.random_state)\n",
    "        return X_train, X_test, y_train, y_test\n"
   ]
  },
  {
   "cell_type": "code",
   "execution_count": 54,
   "id": "3721ce1e-9e9a-4c4c-b765-785e6aa365ff",
   "metadata": {},
   "outputs": [],
   "source": [
    "'''\n",
    "1. We will first make a diff num df and categorical df\n",
    "2.we will apply imputer on num df\n",
    "3. we will use scaler on num df\n",
    "4. we will use hot encoder on cat df\n",
    "\n",
    "strategy will be passed\n",
    "'''\n",
    "class DataProcessor(BaseEstimator,TransformerMixin):\n",
    "    def __init__(self,imputer_strategy):\n",
    "        self.imputer_strategy=imputer_strategy\n",
    "        self.num_df=None\n",
    "        self.cat_df=None\n",
    "        self.num_pipeline=None\n",
    "        self.cat_pipeline=None\n",
    "        self.full_pipeline=None\n",
    "    def fit(self,df):\n",
    "        self.num_df=df.select_dtypes(include=[\"number\"])\n",
    "        self.cat_df=df.select_dtypes(include=[\"object\"])\n",
    "\n",
    "        self.num_pipeline=Pipeline([\n",
    "            (\"imputer\",SimpleImputer(strategy=self.imputer_strategy)),\n",
    "            (\"scaler\",MinMaxScaler())\n",
    "        ])\n",
    "        self.cat_pipeline=Pipeline([\n",
    "            ('imputer', SimpleImputer(strategy='most_frequent')),\n",
    "            (\"encoder\",OneHotEncoder())\n",
    "        ])\n",
    "\n",
    "        self.full_pipeline=ColumnTransformer([\n",
    "            ('num', self.num_pipeline, self.num_df.columns.tolist()),\n",
    "            ('cat', self.cat_pipeline, self.cat_df.columns.tolist())\n",
    "        ])\n",
    "\n",
    "        self.full_pipeline.fit(df)\n",
    "        return self\n",
    "\n",
    "    def transform(self,df):\n",
    "        data_prep=self.full_pipeline.transform(df)\n",
    "        return data_prep\n",
    "        "
   ]
  },
  {
   "cell_type": "code",
   "execution_count": 55,
   "id": "93779f12-9fd4-429e-97fb-dad8794562a7",
   "metadata": {},
   "outputs": [],
   "source": [
    "'''\n",
    "we will give 4 options: linear, tree, random forest and SVM\n",
    "'''\n",
    "class PredictingTransformer(BaseEstimator,TransformerMixin):\n",
    "    def __init__(self,model_name):\n",
    "        self.model_name=model_name\n",
    "        self.model=None\n",
    "        self.train_data=None\n",
    "        self.train_label=None\n",
    "    def fit(self,train_data,train_label):\n",
    "        self.train_data=train_data\n",
    "        self.train_label=train_label\n",
    "        if self.model_name==\"linear\":\n",
    "            self.model=LinearRegression()\n",
    "        if self.model_name==\"tree\":\n",
    "            self.model=DecisionTreeRegressor()\n",
    "        if self.model_name==\"forest\":\n",
    "            self.model=RandomForestRegressor()\n",
    "        if self.model_name==\"svm\":\n",
    "            self.model=SVR(kernel='rbf', C=1.0, epsilon=0.2)\n",
    "\n",
    "        self.model.fit(train_data,train_label)\n",
    "        return self\n",
    "\n",
    "    def transform(self,test_data):\n",
    "        train_pred=self.model.predict(self.train_data)\n",
    "        test_pred=self.model.predict(test_data)\n",
    "        return train_pred,test_pred\n",
    "        "
   ]
  },
  {
   "cell_type": "code",
   "execution_count": 56,
   "id": "1dad13e8-3942-471d-a66b-2964793422b2",
   "metadata": {},
   "outputs": [],
   "source": [
    "'''\n",
    "1. cross validation\n",
    "2. rmse calculation\n",
    "3. fine tuning using grid search\n",
    "'''\n",
    "class FineTunerTransformer(BaseEstimator,TransformerMixin):\n",
    "    def __init__(self,model,param,cv_finetune,prediction,labels,cv=10):\n",
    "        self.param=param\n",
    "        self.cv_finetune=cv_finetune\n",
    "        self.cv=cv\n",
    "        self.model=model\n",
    "        self.prediction=prediction\n",
    "        self.labels=labels\n",
    "        self.gridsearch=None\n",
    "        self.best_params=None\n",
    "        self.cross_val=None\n",
    "        self.mse_model=None\n",
    "    def fit(self,df):\n",
    "        self.mse_model=mse(self.labels,self.prediction)\n",
    "        self.cross_val=cross_val_score(self.model,df,self.labels,scoring=\"neg_mean_squared_error\",cv=self.cv)\n",
    "        self.gridsearch=GridSearchCV(self.model,self.param,cv=self.cv_finetune,scoring='neg_mean_squared_error')\n",
    "        return self\n",
    "    def transform(self,df):\n",
    "        self.gridsearch.fit(df,self.labels)\n",
    "        return self.gridsearch\n",
    "        \n",
    "    def display_scores(self):\n",
    "        rmse=np.sqrt(-self.cross_val)\n",
    "        print(\"scores:\",rmse)\n",
    "        print(\"Mean:\",rmse.mean())\n",
    "        print(\"std deviation:\",rmse.std())"
   ]
  },
  {
   "cell_type": "code",
   "execution_count": 72,
   "id": "b5a72168-0ef2-4700-bb6e-ada13c501d58",
   "metadata": {},
   "outputs": [],
   "source": [
    "class CompleteTransformer(BaseEstimator, TransformerMixin):\n",
    "    def __init__(self, df, target, finetune_params=[], imputer_strategy=\"median\", splitting=0.2, random_state=42, model_name=\"linear\", cv=10, finetune_cv=5):\n",
    "        self.df=df\n",
    "        self.target=target\n",
    "        self.splitting=splitting\n",
    "        self.random_state=random_state\n",
    "        self.imputer_strategy=imputer_strategy\n",
    "        self.model_name=model_name\n",
    "        self.finetune_params=finetune_params\n",
    "        self.cv=cv\n",
    "        self.finetune_cv=finetune_cv\n",
    "        self.x_train=None\n",
    "        self.x_test=None\n",
    "        self.y_train=None\n",
    "        self.y_test=None\n",
    "        self.trained_processed_data=None\n",
    "        self.test_processed_data=None\n",
    "        self.predictor=None\n",
    "        self.fine_tuner=None\n",
    "        self.train_pred=None\n",
    "        self.test_pred=None\n",
    "    def fit(self):\n",
    "        #splitting data\n",
    "        spliter=trainTestSplitter(self.splitting,self.random_state)\n",
    "        spliter.fit()\n",
    "        self.x_train, self.x_test, self.y_train, self.y_test=spliter.transform(self.df,self.target)\n",
    "        print(\"data splitting done \\n\")\n",
    "        #data processing both train and test\n",
    "        train_processor=DataProcessor(self.imputer_strategy)\n",
    "        train_processor.fit(self.x_train)\n",
    "        self.trained_processed_data=train_processor.transform(self.x_train)\n",
    "        print(\"trained data processed\\n\")\n",
    "        test_processor=DataProcessor(self.imputer_strategy)\n",
    "        test_processor.fit(self.x_test)\n",
    "        self.test_processed_data=test_processor.transform(self.x_test)\n",
    "        print(\"test data processed\\n\")\n",
    "\n",
    "        #model initialization\n",
    "        self.predictor=PredictingTransformer(self.model_name)   \n",
    "        self.predictor.fit(self.trained_processed_data,self.y_train)\n",
    "        print(\"model trained\\n\")\n",
    "        return self\n",
    "\n",
    "    def transform(self,X):\n",
    "        self.train_pred,self.test_pred=self.predictor.transform(X)\n",
    "        print(\"prediction is done\\n\")\n",
    "        self.fine_tuner=FineTunerTransformer(self.predictor.model,self.finetune_params,self.finetune_cv,self.train_pred,self.y_train,self.cv)\n",
    "        self.fine_tuner.fit(self.trained_processed_data)\n",
    "        self.grid_search=self.fine_tuner.transform(self.trained_processed_data)\n",
    "\n",
    "        print(\"grid search done\\n\")\n",
    "\n",
    "        return self.train_pred,self.test_pred,self.grid_search,self.predictor.model\n",
    "        \n",
    "        "
   ]
  },
  {
   "cell_type": "code",
   "execution_count": 73,
   "id": "144e8eb7-0e6f-427a-8945-98160bbbf0a9",
   "metadata": {},
   "outputs": [
    {
     "name": "stdout",
     "output_type": "stream",
     "text": [
      "data splitting done \n",
      "\n",
      "trained data processed\n",
      "\n",
      "test data processed\n",
      "\n",
      "model trained\n",
      "\n",
      "prediction is done\n",
      "\n",
      "grid search done\n",
      "\n"
     ]
    }
   ],
   "source": [
    "param=[\n",
    "    {'n_estimators':[3,10,30],'max_features':[2,4,6,8]},\n",
    "    {'n_estimators':[3,10],'max_features':[2,3,4],'bootstrap':[False]},\n",
    "]\n",
    "cmp_transformer = CompleteTransformer(df, \"median_house_value\", model_name=\"forest\",finetune_params=param)\n",
    "cmp_transformer.fit()\n",
    "train_pred, test_pred, grid_search_results, model = cmp_transformer.transform(cmp_transformer.test_processed_data)"
   ]
  },
  {
   "cell_type": "code",
   "execution_count": 74,
   "id": "2a586af0-2387-46f2-82e3-96a570decbc9",
   "metadata": {},
   "outputs": [
    {
     "data": {
      "text/plain": [
       "array([106756.  , 371009.  , 182343.  , ..., 228744.  , 277835.  ,\n",
       "       323586.01])"
      ]
     },
     "execution_count": 74,
     "metadata": {},
     "output_type": "execute_result"
    }
   ],
   "source": [
    "train_pred"
   ]
  },
  {
   "cell_type": "code",
   "execution_count": 75,
   "id": "5ed9204d-be6d-4c2d-b040-878bea913aa7",
   "metadata": {},
   "outputs": [
    {
     "data": {
      "text/plain": [
       "array([ 51692.  ,  68499.  , 349039.08, ..., 496607.95,  98922.  ,\n",
       "       226006.  ])"
      ]
     },
     "execution_count": 75,
     "metadata": {},
     "output_type": "execute_result"
    }
   ],
   "source": [
    "test_pred"
   ]
  },
  {
   "cell_type": "code",
   "execution_count": 76,
   "id": "9354474e-c0a9-4fc7-b029-2da856e4e432",
   "metadata": {},
   "outputs": [
    {
     "data": {
      "text/html": [
       "<style>#sk-container-id-6 {color: black;}#sk-container-id-6 pre{padding: 0;}#sk-container-id-6 div.sk-toggleable {background-color: white;}#sk-container-id-6 label.sk-toggleable__label {cursor: pointer;display: block;width: 100%;margin-bottom: 0;padding: 0.3em;box-sizing: border-box;text-align: center;}#sk-container-id-6 label.sk-toggleable__label-arrow:before {content: \"▸\";float: left;margin-right: 0.25em;color: #696969;}#sk-container-id-6 label.sk-toggleable__label-arrow:hover:before {color: black;}#sk-container-id-6 div.sk-estimator:hover label.sk-toggleable__label-arrow:before {color: black;}#sk-container-id-6 div.sk-toggleable__content {max-height: 0;max-width: 0;overflow: hidden;text-align: left;background-color: #f0f8ff;}#sk-container-id-6 div.sk-toggleable__content pre {margin: 0.2em;color: black;border-radius: 0.25em;background-color: #f0f8ff;}#sk-container-id-6 input.sk-toggleable__control:checked~div.sk-toggleable__content {max-height: 200px;max-width: 100%;overflow: auto;}#sk-container-id-6 input.sk-toggleable__control:checked~label.sk-toggleable__label-arrow:before {content: \"▾\";}#sk-container-id-6 div.sk-estimator input.sk-toggleable__control:checked~label.sk-toggleable__label {background-color: #d4ebff;}#sk-container-id-6 div.sk-label input.sk-toggleable__control:checked~label.sk-toggleable__label {background-color: #d4ebff;}#sk-container-id-6 input.sk-hidden--visually {border: 0;clip: rect(1px 1px 1px 1px);clip: rect(1px, 1px, 1px, 1px);height: 1px;margin: -1px;overflow: hidden;padding: 0;position: absolute;width: 1px;}#sk-container-id-6 div.sk-estimator {font-family: monospace;background-color: #f0f8ff;border: 1px dotted black;border-radius: 0.25em;box-sizing: border-box;margin-bottom: 0.5em;}#sk-container-id-6 div.sk-estimator:hover {background-color: #d4ebff;}#sk-container-id-6 div.sk-parallel-item::after {content: \"\";width: 100%;border-bottom: 1px solid gray;flex-grow: 1;}#sk-container-id-6 div.sk-label:hover label.sk-toggleable__label {background-color: #d4ebff;}#sk-container-id-6 div.sk-serial::before {content: \"\";position: absolute;border-left: 1px solid gray;box-sizing: border-box;top: 0;bottom: 0;left: 50%;z-index: 0;}#sk-container-id-6 div.sk-serial {display: flex;flex-direction: column;align-items: center;background-color: white;padding-right: 0.2em;padding-left: 0.2em;position: relative;}#sk-container-id-6 div.sk-item {position: relative;z-index: 1;}#sk-container-id-6 div.sk-parallel {display: flex;align-items: stretch;justify-content: center;background-color: white;position: relative;}#sk-container-id-6 div.sk-item::before, #sk-container-id-6 div.sk-parallel-item::before {content: \"\";position: absolute;border-left: 1px solid gray;box-sizing: border-box;top: 0;bottom: 0;left: 50%;z-index: -1;}#sk-container-id-6 div.sk-parallel-item {display: flex;flex-direction: column;z-index: 1;position: relative;background-color: white;}#sk-container-id-6 div.sk-parallel-item:first-child::after {align-self: flex-end;width: 50%;}#sk-container-id-6 div.sk-parallel-item:last-child::after {align-self: flex-start;width: 50%;}#sk-container-id-6 div.sk-parallel-item:only-child::after {width: 0;}#sk-container-id-6 div.sk-dashed-wrapped {border: 1px dashed gray;margin: 0 0.4em 0.5em 0.4em;box-sizing: border-box;padding-bottom: 0.4em;background-color: white;}#sk-container-id-6 div.sk-label label {font-family: monospace;font-weight: bold;display: inline-block;line-height: 1.2em;}#sk-container-id-6 div.sk-label-container {text-align: center;}#sk-container-id-6 div.sk-container {/* jupyter's `normalize.less` sets `[hidden] { display: none; }` but bootstrap.min.css set `[hidden] { display: none !important; }` so we also need the `!important` here to be able to override the default hidden behavior on the sphinx rendered scikit-learn.org. See: https://github.com/scikit-learn/scikit-learn/issues/21755 */display: inline-block !important;position: relative;}#sk-container-id-6 div.sk-text-repr-fallback {display: none;}</style><div id=\"sk-container-id-6\" class=\"sk-top-container\"><div class=\"sk-text-repr-fallback\"><pre>RandomForestRegressor()</pre><b>In a Jupyter environment, please rerun this cell to show the HTML representation or trust the notebook. <br />On GitHub, the HTML representation is unable to render, please try loading this page with nbviewer.org.</b></div><div class=\"sk-container\" hidden><div class=\"sk-item\"><div class=\"sk-estimator sk-toggleable\"><input class=\"sk-toggleable__control sk-hidden--visually\" id=\"sk-estimator-id-6\" type=\"checkbox\" checked><label for=\"sk-estimator-id-6\" class=\"sk-toggleable__label sk-toggleable__label-arrow\">RandomForestRegressor</label><div class=\"sk-toggleable__content\"><pre>RandomForestRegressor()</pre></div></div></div></div></div>"
      ],
      "text/plain": [
       "RandomForestRegressor()"
      ]
     },
     "execution_count": 76,
     "metadata": {},
     "output_type": "execute_result"
    }
   ],
   "source": [
    "model"
   ]
  },
  {
   "cell_type": "code",
   "execution_count": 77,
   "id": "c72e4968-f289-4d5e-8566-e3a9fcd14593",
   "metadata": {},
   "outputs": [
    {
     "data": {
      "text/plain": [
       "{'mean_fit_time': array([0.10377316, 0.3198441 , 0.95503287, 0.16129651, 0.56915684,\n",
       "        1.59654593, 0.21056805, 0.70526733, 2.09877219, 0.26789093,\n",
       "        0.89143462, 2.75104904, 0.12770867, 0.42886281, 0.16751828,\n",
       "        0.56497564, 0.21248035, 0.68852773]),\n",
       " 'std_fit_time': array([0.00820495, 0.00909144, 0.02786666, 0.00583726, 0.02987822,\n",
       "        0.07728068, 0.00192327, 0.00483902, 0.02196209, 0.00567018,\n",
       "        0.00646133, 0.051231  , 0.00304291, 0.00552398, 0.00292086,\n",
       "        0.00869537, 0.00737878, 0.01384481]),\n",
       " 'mean_score_time': array([0.00380054, 0.0084796 , 0.02410669, 0.00370216, 0.01049271,\n",
       "        0.02522278, 0.00340061, 0.00848618, 0.0227066 , 0.00300097,\n",
       "        0.00820155, 0.02512569, 0.0037137 , 0.01110392, 0.00368843,\n",
       "        0.01078105, 0.00390282, 0.01060481]),\n",
       " 'std_score_time': array([1.16567270e-03, 6.86852851e-04, 9.17037751e-04, 3.98700683e-04,\n",
       "        5.47217575e-04, 2.69108000e-03, 4.89940455e-04, 5.23105958e-04,\n",
       "        3.99662611e-04, 3.69356475e-07, 3.99851895e-04, 2.85773114e-03,\n",
       "        5.20044748e-04, 8.80096554e-04, 4.06594675e-04, 3.36135633e-04,\n",
       "        1.98451674e-04, 5.84673982e-04]),\n",
       " 'param_max_features': masked_array(data=[2, 2, 2, 4, 4, 4, 6, 6, 6, 8, 8, 8, 2, 2, 3, 3, 4, 4],\n",
       "              mask=[False, False, False, False, False, False, False, False,\n",
       "                    False, False, False, False, False, False, False, False,\n",
       "                    False, False],\n",
       "        fill_value='?',\n",
       "             dtype=object),\n",
       " 'param_n_estimators': masked_array(data=[3, 10, 30, 3, 10, 30, 3, 10, 30, 3, 10, 30, 3, 10, 3,\n",
       "                    10, 3, 10],\n",
       "              mask=[False, False, False, False, False, False, False, False,\n",
       "                    False, False, False, False, False, False, False, False,\n",
       "                    False, False],\n",
       "        fill_value='?',\n",
       "             dtype=object),\n",
       " 'param_bootstrap': masked_array(data=[--, --, --, --, --, --, --, --, --, --, --, --, False,\n",
       "                    False, False, False, False, False],\n",
       "              mask=[ True,  True,  True,  True,  True,  True,  True,  True,\n",
       "                     True,  True,  True,  True, False, False, False, False,\n",
       "                    False, False],\n",
       "        fill_value='?',\n",
       "             dtype=object),\n",
       " 'params': [{'max_features': 2, 'n_estimators': 3},\n",
       "  {'max_features': 2, 'n_estimators': 10},\n",
       "  {'max_features': 2, 'n_estimators': 30},\n",
       "  {'max_features': 4, 'n_estimators': 3},\n",
       "  {'max_features': 4, 'n_estimators': 10},\n",
       "  {'max_features': 4, 'n_estimators': 30},\n",
       "  {'max_features': 6, 'n_estimators': 3},\n",
       "  {'max_features': 6, 'n_estimators': 10},\n",
       "  {'max_features': 6, 'n_estimators': 30},\n",
       "  {'max_features': 8, 'n_estimators': 3},\n",
       "  {'max_features': 8, 'n_estimators': 10},\n",
       "  {'max_features': 8, 'n_estimators': 30},\n",
       "  {'bootstrap': False, 'max_features': 2, 'n_estimators': 3},\n",
       "  {'bootstrap': False, 'max_features': 2, 'n_estimators': 10},\n",
       "  {'bootstrap': False, 'max_features': 3, 'n_estimators': 3},\n",
       "  {'bootstrap': False, 'max_features': 3, 'n_estimators': 10},\n",
       "  {'bootstrap': False, 'max_features': 4, 'n_estimators': 3},\n",
       "  {'bootstrap': False, 'max_features': 4, 'n_estimators': 10}],\n",
       " 'split0_test_score': array([-4.18301280e+09, -3.02894537e+09, -2.70858932e+09, -3.80902125e+09,\n",
       "        -2.63117517e+09, -2.56166543e+09, -3.39324270e+09, -2.71504811e+09,\n",
       "        -2.44664537e+09, -3.39612106e+09, -2.59543894e+09, -2.49778910e+09,\n",
       "        -3.78782157e+09, -2.92465117e+09, -3.71622305e+09, -2.65859323e+09,\n",
       "        -3.44761188e+09, -2.68792364e+09]),\n",
       " 'split1_test_score': array([-4.10173230e+09, -2.86905175e+09, -2.72618546e+09, -3.61640160e+09,\n",
       "        -2.64928429e+09, -2.52971906e+09, -3.34881529e+09, -2.72124472e+09,\n",
       "        -2.43460320e+09, -3.39532792e+09, -2.63333856e+09, -2.50075463e+09,\n",
       "        -3.71157612e+09, -2.85740729e+09, -3.46809722e+09, -2.75279947e+09,\n",
       "        -3.51334716e+09, -2.72653552e+09]),\n",
       " 'split2_test_score': array([-3.88814639e+09, -3.04038143e+09, -2.70274451e+09, -3.48688666e+09,\n",
       "        -2.74443647e+09, -2.45469314e+09, -3.30441861e+09, -2.70730383e+09,\n",
       "        -2.41830916e+09, -3.25446477e+09, -2.72530542e+09, -2.48003571e+09,\n",
       "        -3.65434099e+09, -2.88376204e+09, -3.45255961e+09, -2.66144194e+09,\n",
       "        -3.32525110e+09, -2.65553065e+09]),\n",
       " 'split3_test_score': array([-3.98671239e+09, -2.98566453e+09, -2.64567309e+09, -3.58210273e+09,\n",
       "        -2.73775489e+09, -2.51223587e+09, -3.50530388e+09, -2.57671836e+09,\n",
       "        -2.40233694e+09, -3.15527037e+09, -2.66326736e+09, -2.36832883e+09,\n",
       "        -3.76550160e+09, -2.97150043e+09, -3.54288796e+09, -2.60741724e+09,\n",
       "        -3.30715029e+09, -2.64846798e+09]),\n",
       " 'split4_test_score': array([-4.39161775e+09, -3.14971850e+09, -2.81411361e+09, -3.79929240e+09,\n",
       "        -2.85197548e+09, -2.55929961e+09, -3.50115949e+09, -2.79124489e+09,\n",
       "        -2.58149168e+09, -3.42324951e+09, -2.72871505e+09, -2.54539447e+09,\n",
       "        -3.83785296e+09, -2.89778101e+09, -3.54602856e+09, -2.70676984e+09,\n",
       "        -3.57262629e+09, -2.76861173e+09]),\n",
       " 'mean_test_score': array([-4.11024433e+09, -3.01475232e+09, -2.71946120e+09, -3.65874093e+09,\n",
       "        -2.72292526e+09, -2.52352262e+09, -3.41058799e+09, -2.70231198e+09,\n",
       "        -2.45667727e+09, -3.32488672e+09, -2.66921307e+09, -2.47846055e+09,\n",
       "        -3.75141865e+09, -2.90702039e+09, -3.54515928e+09, -2.67740434e+09,\n",
       "        -3.43319734e+09, -2.69741390e+09]),\n",
       " 'std_test_score': array([1.72699936e+08, 9.07181575e+07, 5.44915134e+07, 1.26125976e+08,\n",
       "        7.89654111e+07, 3.90849113e+07, 8.07006304e+07, 6.96109118e+07,\n",
       "        6.41740198e+07, 1.03383256e+08, 5.18686649e+07, 5.91307810e+07,\n",
       "        6.32548690e+07, 3.88749175e+07, 9.35756251e+07, 4.90991002e+07,\n",
       "        1.03549461e+08, 4.50714439e+07]),\n",
       " 'rank_test_score': array([18, 11,  8, 16,  9,  3, 13,  7,  1, 12,  4,  2, 17, 10, 15,  5, 14,\n",
       "         6])}"
      ]
     },
     "execution_count": 77,
     "metadata": {},
     "output_type": "execute_result"
    }
   ],
   "source": [
    "grid_search_results.cv_results_"
   ]
  },
  {
   "cell_type": "code",
   "execution_count": 78,
   "id": "55d12669-d6eb-4bc3-a469-aecd684633c2",
   "metadata": {},
   "outputs": [
    {
     "name": "stdout",
     "output_type": "stream",
     "text": [
      "scores: [46590.70395524 50674.18176837 47688.1990024  50128.10048237\n",
      " 50046.9946549  46575.1661624  45839.43151203 51123.50396358\n",
      " 49464.00058943 49799.6365286 ]\n",
      "Mean: 48792.99186193128\n",
      "std deviation: 1830.3468308188721\n"
     ]
    }
   ],
   "source": [
    "cmp_transformer.fine_tuner.display_scores()"
   ]
  },
  {
   "cell_type": "code",
   "execution_count": 79,
   "id": "d4049c6e-aadc-4177-807a-9184c2325a11",
   "metadata": {},
   "outputs": [
    {
     "data": {
      "text/html": [
       "<style>#sk-container-id-7 {color: black;}#sk-container-id-7 pre{padding: 0;}#sk-container-id-7 div.sk-toggleable {background-color: white;}#sk-container-id-7 label.sk-toggleable__label {cursor: pointer;display: block;width: 100%;margin-bottom: 0;padding: 0.3em;box-sizing: border-box;text-align: center;}#sk-container-id-7 label.sk-toggleable__label-arrow:before {content: \"▸\";float: left;margin-right: 0.25em;color: #696969;}#sk-container-id-7 label.sk-toggleable__label-arrow:hover:before {color: black;}#sk-container-id-7 div.sk-estimator:hover label.sk-toggleable__label-arrow:before {color: black;}#sk-container-id-7 div.sk-toggleable__content {max-height: 0;max-width: 0;overflow: hidden;text-align: left;background-color: #f0f8ff;}#sk-container-id-7 div.sk-toggleable__content pre {margin: 0.2em;color: black;border-radius: 0.25em;background-color: #f0f8ff;}#sk-container-id-7 input.sk-toggleable__control:checked~div.sk-toggleable__content {max-height: 200px;max-width: 100%;overflow: auto;}#sk-container-id-7 input.sk-toggleable__control:checked~label.sk-toggleable__label-arrow:before {content: \"▾\";}#sk-container-id-7 div.sk-estimator input.sk-toggleable__control:checked~label.sk-toggleable__label {background-color: #d4ebff;}#sk-container-id-7 div.sk-label input.sk-toggleable__control:checked~label.sk-toggleable__label {background-color: #d4ebff;}#sk-container-id-7 input.sk-hidden--visually {border: 0;clip: rect(1px 1px 1px 1px);clip: rect(1px, 1px, 1px, 1px);height: 1px;margin: -1px;overflow: hidden;padding: 0;position: absolute;width: 1px;}#sk-container-id-7 div.sk-estimator {font-family: monospace;background-color: #f0f8ff;border: 1px dotted black;border-radius: 0.25em;box-sizing: border-box;margin-bottom: 0.5em;}#sk-container-id-7 div.sk-estimator:hover {background-color: #d4ebff;}#sk-container-id-7 div.sk-parallel-item::after {content: \"\";width: 100%;border-bottom: 1px solid gray;flex-grow: 1;}#sk-container-id-7 div.sk-label:hover label.sk-toggleable__label {background-color: #d4ebff;}#sk-container-id-7 div.sk-serial::before {content: \"\";position: absolute;border-left: 1px solid gray;box-sizing: border-box;top: 0;bottom: 0;left: 50%;z-index: 0;}#sk-container-id-7 div.sk-serial {display: flex;flex-direction: column;align-items: center;background-color: white;padding-right: 0.2em;padding-left: 0.2em;position: relative;}#sk-container-id-7 div.sk-item {position: relative;z-index: 1;}#sk-container-id-7 div.sk-parallel {display: flex;align-items: stretch;justify-content: center;background-color: white;position: relative;}#sk-container-id-7 div.sk-item::before, #sk-container-id-7 div.sk-parallel-item::before {content: \"\";position: absolute;border-left: 1px solid gray;box-sizing: border-box;top: 0;bottom: 0;left: 50%;z-index: -1;}#sk-container-id-7 div.sk-parallel-item {display: flex;flex-direction: column;z-index: 1;position: relative;background-color: white;}#sk-container-id-7 div.sk-parallel-item:first-child::after {align-self: flex-end;width: 50%;}#sk-container-id-7 div.sk-parallel-item:last-child::after {align-self: flex-start;width: 50%;}#sk-container-id-7 div.sk-parallel-item:only-child::after {width: 0;}#sk-container-id-7 div.sk-dashed-wrapped {border: 1px dashed gray;margin: 0 0.4em 0.5em 0.4em;box-sizing: border-box;padding-bottom: 0.4em;background-color: white;}#sk-container-id-7 div.sk-label label {font-family: monospace;font-weight: bold;display: inline-block;line-height: 1.2em;}#sk-container-id-7 div.sk-label-container {text-align: center;}#sk-container-id-7 div.sk-container {/* jupyter's `normalize.less` sets `[hidden] { display: none; }` but bootstrap.min.css set `[hidden] { display: none !important; }` so we also need the `!important` here to be able to override the default hidden behavior on the sphinx rendered scikit-learn.org. See: https://github.com/scikit-learn/scikit-learn/issues/21755 */display: inline-block !important;position: relative;}#sk-container-id-7 div.sk-text-repr-fallback {display: none;}</style><div id=\"sk-container-id-7\" class=\"sk-top-container\"><div class=\"sk-text-repr-fallback\"><pre>RandomForestRegressor(max_features=6, n_estimators=30)</pre><b>In a Jupyter environment, please rerun this cell to show the HTML representation or trust the notebook. <br />On GitHub, the HTML representation is unable to render, please try loading this page with nbviewer.org.</b></div><div class=\"sk-container\" hidden><div class=\"sk-item\"><div class=\"sk-estimator sk-toggleable\"><input class=\"sk-toggleable__control sk-hidden--visually\" id=\"sk-estimator-id-7\" type=\"checkbox\" checked><label for=\"sk-estimator-id-7\" class=\"sk-toggleable__label sk-toggleable__label-arrow\">RandomForestRegressor</label><div class=\"sk-toggleable__content\"><pre>RandomForestRegressor(max_features=6, n_estimators=30)</pre></div></div></div></div></div>"
      ],
      "text/plain": [
       "RandomForestRegressor(max_features=6, n_estimators=30)"
      ]
     },
     "execution_count": 79,
     "metadata": {},
     "output_type": "execute_result"
    }
   ],
   "source": [
    "grid_search_results.best_estimator_"
   ]
  },
  {
   "cell_type": "code",
   "execution_count": 81,
   "id": "f018ba1c-ff2e-4e73-9a23-12f44cbcae05",
   "metadata": {},
   "outputs": [
    {
     "data": {
      "text/plain": [
       "18228.226293899097"
      ]
     },
     "execution_count": 81,
     "metadata": {},
     "output_type": "execute_result"
    }
   ],
   "source": [
    "np.sqrt(cmp_transformer.fine_tuner.mse_model)"
   ]
  },
  {
   "cell_type": "code",
   "execution_count": null,
   "id": "6d3948c2-e0f6-4b5a-b80e-f0f9299bd6d2",
   "metadata": {},
   "outputs": [],
   "source": []
  }
 ],
 "metadata": {
  "kernelspec": {
   "display_name": "Python 3 (ipykernel)",
   "language": "python",
   "name": "python3"
  },
  "language_info": {
   "codemirror_mode": {
    "name": "ipython",
    "version": 3
   },
   "file_extension": ".py",
   "mimetype": "text/x-python",
   "name": "python",
   "nbconvert_exporter": "python",
   "pygments_lexer": "ipython3",
   "version": "3.10.6"
  }
 },
 "nbformat": 4,
 "nbformat_minor": 5
}
